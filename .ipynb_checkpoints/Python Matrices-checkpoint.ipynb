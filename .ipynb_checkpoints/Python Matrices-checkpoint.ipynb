{
 "cells": [
  {
   "cell_type": "markdown",
   "metadata": {},
   "source": [
    "## simple array\n",
    "\n",
    "First and foremost is important to import numpy. \n",
    "\n",
    "Conda is an open-source BSD-licensed cross-platform package manager. It can easily install NumPy:\n",
    "- [win command] choco install anaconda3"
   ]
  },
  {
   "cell_type": "code",
   "execution_count": 1,
   "metadata": {},
   "outputs": [
    {
     "name": "stdout",
     "output_type": "stream",
     "text": [
      "[[1 2 3]\n",
      " [3 4 5]]\n"
     ]
    }
   ],
   "source": [
    "import numpy as np\n",
    "\n",
    "#simple array\n",
    "A = np.array(\n",
    "    [\n",
    "        [1, 2, 3],\n",
    "        [3, 4, 5]\n",
    "    ]\n",
    ")\n",
    "\n",
    "print(A)"
   ]
  },
  {
   "cell_type": "markdown",
   "metadata": {},
   "source": [
    "## array of float"
   ]
  },
  {
   "cell_type": "code",
   "execution_count": 2,
   "metadata": {},
   "outputs": [
    {
     "name": "stdout",
     "output_type": "stream",
     "text": [
      "[[1.1 2.  3. ]\n",
      " [3.  4.  5. ]]\n"
     ]
    }
   ],
   "source": [
    "#array of float\n",
    "A = np.array(\n",
    "    [\n",
    "        [1.1, 2, 3],\n",
    "        [3  , 4, 5]\n",
    "    ]\n",
    ")\n",
    "\n",
    "print(A)"
   ]
  },
  {
   "cell_type": "markdown",
   "metadata": {},
   "source": [
    "# array of complex number"
   ]
  },
  {
   "cell_type": "code",
   "execution_count": 3,
   "metadata": {},
   "outputs": [
    {
     "name": "stdout",
     "output_type": "stream",
     "text": [
      "[[1.+0.j 2.+0.j 3.+0.j]\n",
      " [3.+0.j 4.+0.j 5.+0.j]]\n"
     ]
    }
   ],
   "source": [
    "A = np.array(\n",
    "    [\n",
    "        [1, 2, 3],\n",
    "        [3, 4, 5]\n",
    "    ], \n",
    "    dtype = complex\n",
    ")\n",
    "\n",
    "print(A)"
   ]
  },
  {
   "cell_type": "markdown",
   "metadata": {},
   "source": [
    "## array of zeros"
   ]
  },
  {
   "cell_type": "code",
   "execution_count": 4,
   "metadata": {},
   "outputs": [
    {
     "name": "stdout",
     "output_type": "stream",
     "text": [
      "[[0. 0. 0.]\n",
      " [0. 0. 0.]]\n"
     ]
    }
   ],
   "source": [
    "A = np.zeros((2, 3))\n",
    "print(A)"
   ]
  },
  {
   "cell_type": "markdown",
   "metadata": {},
   "source": [
    "## array of ones"
   ]
  },
  {
   "cell_type": "code",
   "execution_count": 5,
   "metadata": {},
   "outputs": [
    {
     "name": "stdout",
     "output_type": "stream",
     "text": [
      "[[1 1 1 1 1]]\n"
     ]
    }
   ],
   "source": [
    "A = np.ones((1,5), dtype=np.int32)\n",
    "print(A)"
   ]
  },
  {
   "cell_type": "markdown",
   "metadata": {},
   "source": [
    "## arange"
   ]
  },
  {
   "cell_type": "code",
   "execution_count": 6,
   "metadata": {},
   "outputs": [
    {
     "name": "stdout",
     "output_type": "stream",
     "text": [
      "[0 1 2 3]\n"
     ]
    }
   ],
   "source": [
    "A = np.arange(4)\n",
    "print(A)"
   ]
  },
  {
   "cell_type": "markdown",
   "metadata": {},
   "source": [
    "## shape"
   ]
  },
  {
   "cell_type": "code",
   "execution_count": 7,
   "metadata": {},
   "outputs": [
    {
     "name": "stdout",
     "output_type": "stream",
     "text": [
      "[[ 0  1  2  3]\n",
      " [ 4  5  6  7]\n",
      " [ 8  9 10 11]\n",
      " [12 13 14 15]\n",
      " [16 17 18 19]\n",
      " [20 21 22 23]]\n"
     ]
    }
   ],
   "source": [
    "A = np.arange(24).reshape(6, 4)\n",
    "print(A)"
   ]
  },
  {
   "cell_type": "markdown",
   "metadata": {},
   "source": [
    "## Addition of Two Matrices"
   ]
  },
  {
   "cell_type": "code",
   "execution_count": 8,
   "metadata": {},
   "outputs": [
    {
     "name": "stdout",
     "output_type": "stream",
     "text": [
      "[[-2 11]\n",
      " [15 -2]]\n"
     ]
    }
   ],
   "source": [
    "A = np.array(\n",
    "    [\n",
    "        [2, 6], \n",
    "        [9, 3]\n",
    "    ]\n",
    ")\n",
    "\n",
    "B = np.array(\n",
    "    [\n",
    "        [-4, 5],\n",
    "        [6, -5]\n",
    "    ]\n",
    ")\n",
    "\n",
    "C = A + B\n",
    "print(C)\n"
   ]
  },
  {
   "cell_type": "markdown",
   "metadata": {},
   "source": [
    "## Multiplication of Two Matrices"
   ]
  },
  {
   "cell_type": "code",
   "execution_count": 9,
   "metadata": {},
   "outputs": [
    {
     "name": "stdout",
     "output_type": "stream",
     "text": [
      "[[ 42 -12]\n",
      " [ -1  -1]]\n"
     ]
    }
   ],
   "source": [
    "A = np.array(\n",
    "    [\n",
    "        [3, 6, 9],\n",
    "        [5, -3, 0]\n",
    "    ]\n",
    ")\n",
    "\n",
    "B = np.array(\n",
    "    [\n",
    "        [1, 1],\n",
    "        [2, 2],\n",
    "        [3, -3]\n",
    "    ]\n",
    ")\n",
    "\n",
    "C = A.dot(B)\n",
    "print(C)"
   ]
  },
  {
   "cell_type": "markdown",
   "metadata": {},
   "source": [
    "## Transpose of a Matrix"
   ]
  },
  {
   "cell_type": "code",
   "execution_count": 10,
   "metadata": {},
   "outputs": [
    {
     "name": "stdout",
     "output_type": "stream",
     "text": [
      "A =\n",
      "[[ 1  1]\n",
      " [ 2  2]\n",
      " [ 3 -3]]\n",
      "B =\n",
      "[[ 1  2  3]\n",
      " [ 1  2 -3]]\n"
     ]
    }
   ],
   "source": [
    "A = np.array(\n",
    "    [\n",
    "        [1, 1],\n",
    "        [2, 2],\n",
    "        [3, -3]\n",
    "    ]\n",
    ")\n",
    "\n",
    "B = A.transpose()\n",
    "\n",
    "print('A =\\n{0}'.format(A))\n",
    "print('B =\\n{0}'.format(B))\n",
    "\n"
   ]
  },
  {
   "cell_type": "markdown",
   "metadata": {},
   "source": [
    "## Access matrix elements"
   ]
  },
  {
   "cell_type": "markdown",
   "metadata": {},
   "source": [
    "### simple access"
   ]
  },
  {
   "cell_type": "code",
   "execution_count": 11,
   "metadata": {},
   "outputs": [
    {
     "name": "stdout",
     "output_type": "stream",
     "text": [
      "A[0] 2\n",
      "A[2] 6\n",
      "A[-1] 10\n",
      "A[-2] 8\n"
     ]
    }
   ],
   "source": [
    "A = np.array([2, 4, 6, 8, 10])\n",
    "\n",
    "print('A[0]', A[0])\n",
    "print('A[2]', A[2])\n",
    "#reverse\n",
    "print('A[-1]', A[-1])\n",
    "print('A[-2]', A[-2])"
   ]
  },
  {
   "cell_type": "markdown",
   "metadata": {},
   "source": [
    "### matrix access"
   ]
  },
  {
   "cell_type": "code",
   "execution_count": 12,
   "metadata": {},
   "outputs": [
    {
     "name": "stdout",
     "output_type": "stream",
     "text": [
      "A[0][0] 1\n",
      "A[1][2] 4\n",
      "A[-1][-1] 11\n"
     ]
    }
   ],
   "source": [
    "A = np.array(\n",
    "    [\n",
    "        [1, 4, 5, 6],\n",
    "        [4, -3, 4, 0],\n",
    "        [-6, 7, 19, 11]\n",
    "    ]\n",
    ")\n",
    "\n",
    "print('A[0][0]', A[0][0])\n",
    "print('A[1][2]', A[1][2])\n",
    "\n",
    "#get last\n",
    "print('A[-1][-1]', A[-1][-1])"
   ]
  },
  {
   "cell_type": "markdown",
   "metadata": {},
   "source": [
    "### row access"
   ]
  },
  {
   "cell_type": "code",
   "execution_count": 13,
   "metadata": {},
   "outputs": [
    {
     "name": "stdout",
     "output_type": "stream",
     "text": [
      "A[0] [1 4 5 6]\n",
      "A[2] [-6  7 19 11]\n",
      "A[-1] [-6  7 19 11]\n"
     ]
    }
   ],
   "source": [
    "#same matrix (just to make it visible)\n",
    "A = np.array(\n",
    "    [\n",
    "        [1, 4, 5, 6],\n",
    "        [4, -3, 4, 0],\n",
    "        [-6, 7, 19, 11]\n",
    "    ]\n",
    ")\n",
    "\n",
    "print('A[0]', A[0])\n",
    "print('A[2]', A[2])\n",
    "#get last row\n",
    "print('A[-1]', A[-1])\n"
   ]
  },
  {
   "cell_type": "markdown",
   "metadata": {},
   "source": [
    "### column access"
   ]
  },
  {
   "cell_type": "code",
   "execution_count": 14,
   "metadata": {},
   "outputs": [
    {
     "name": "stdout",
     "output_type": "stream",
     "text": [
      "A[:,0] [ 1  4 -6]\n",
      "A[:,2] [ 5  4 19]\n",
      "A[:,-1] [ 6  0 11]\n"
     ]
    }
   ],
   "source": [
    "#same matrix (just to make it visible)\n",
    "A = np.array(\n",
    "    [\n",
    "        [1, 4, 5, 6],\n",
    "        [4, -3, 4, 0],\n",
    "        [-6, 7, 19, 11]\n",
    "    ]\n",
    ")\n",
    "\n",
    "print('A[:,0]', A[:,0])\n",
    "print('A[:,2]', A[:,2])\n",
    "print('A[:,-1]', A[:,-1])"
   ]
  },
  {
   "cell_type": "markdown",
   "metadata": {},
   "source": [
    "## Slicing\n",
    "Slicing of a one-dimensional NumPy array is similar to a list."
   ]
  },
  {
   "cell_type": "code",
   "execution_count": 15,
   "metadata": {},
   "outputs": [
    {
     "name": "stdout",
     "output_type": "stream",
     "text": [
      "3rd to 5th element:  [5 7 9]\n",
      "1st to 4th element:  [1 3]\n",
      "6th to last:  [7 5]\n",
      "all:  [1 3 5 7 9 7 5]\n",
      "reversing list:  [5 7 9 7 5 3 1]\n"
     ]
    }
   ],
   "source": [
    "A = np.array([1, 3, 5, 7, 9, 7, 5])\n",
    "\n",
    "print('3rd to 5th element: ', A[2:5])\n",
    "print('1st to 4th element: ', A[:-5])\n",
    "print('6th to last: ', A[5:])\n",
    "print('all: ', A[:])\n",
    "print('reversing list: ', A[::-1])\n"
   ]
  },
  {
   "cell_type": "markdown",
   "metadata": {},
   "source": [
    "## Slicing Matrix"
   ]
  },
  {
   "cell_type": "code",
   "execution_count": 16,
   "metadata": {},
   "outputs": [
    {
     "name": "stdout",
     "output_type": "stream",
     "text": [
      "two rows, five comuns\n",
      " [[ 1  4  5  6 15]\n",
      " [ 4 -3  4  0 21]]\n",
      "first row, all columns\n",
      " [[ 1  4  5  6 15]]\n",
      "all row, second columns\n",
      " [ 5  4 19]\n",
      "all row, third to fifth column\n",
      " [[ 5  6 15]\n",
      " [ 4  0 21]\n",
      " [19 11 17]]\n"
     ]
    }
   ],
   "source": [
    "A = np.array(\n",
    "    [\n",
    "        [1, 4, 5, 6, 15],\n",
    "        [4, -3, 4, 0, 21],\n",
    "        [-6, 7, 19, 11, 17]\n",
    "    ]\n",
    ")\n",
    "\n",
    "print('two rows, five comuns\\n', A[:2, :5])\n",
    "print('first row, all columns\\n', A[:1])\n",
    "print('all row, second columns\\n', A[:, 2])\n",
    "print('all row, third to fifth column\\n', A[:, 2:5])"
   ]
  }
 ],
 "metadata": {
  "kernelspec": {
   "display_name": "Python 3",
   "language": "python",
   "name": "python3"
  },
  "language_info": {
   "codemirror_mode": {
    "name": "ipython",
    "version": 3
   },
   "file_extension": ".py",
   "mimetype": "text/x-python",
   "name": "python",
   "nbconvert_exporter": "python",
   "pygments_lexer": "ipython3",
   "version": "3.7.0"
  }
 },
 "nbformat": 4,
 "nbformat_minor": 2
}
