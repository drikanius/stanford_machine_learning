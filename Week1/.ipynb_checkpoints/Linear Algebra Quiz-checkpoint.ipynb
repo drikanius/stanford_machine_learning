{
 "cells": [
  {
   "cell_type": "markdown",
   "metadata": {},
   "source": [
    "# 1\n",
    "Let two matrices be\n",
    "\n",
    "A = \n",
    "$\\begin{bmatrix}\n",
    "    1 & -4\\\\\n",
    "    -2 & 1\\end\n",
    "{bmatrix}$,\n",
    "B = \n",
    "$\\begin{bmatrix}\n",
    "    0 & 3\\\\\n",
    "    5 & 8\\end\n",
    "{bmatrix}$\n",
    "\n",
    "What is A + B?\n"
   ]
  },
  {
   "cell_type": "code",
   "execution_count": 1,
   "metadata": {},
   "outputs": [
    {
     "name": "stdout",
     "output_type": "stream",
     "text": [
      "A =\n",
      "\n",
      "   1  -4\n",
      "  -2   1\n",
      "\n",
      "B =\n",
      "\n",
      "   0   3\n",
      "   5   8\n",
      "\n",
      "C =\n",
      "\n",
      "   1  -1\n",
      "   3   9\n",
      "\n"
     ]
    }
   ],
   "source": [
    "A = [\n",
    "    1, -4;\n",
    "    -2, 1\n",
    "]\n",
    "\n",
    "B = [\n",
    "    0, 3;\n",
    "    5, 8\n",
    "]\n",
    "\n",
    "C = A + B"
   ]
  },
  {
   "cell_type": "markdown",
   "metadata": {},
   "source": [
    "# 2\n",
    "\n",
    "Let x = \n",
    "$\\begin{bmatrix}\n",
    "    2 \\\\\n",
    "    7 \\\\\n",
    "    4 \\\\\n",
    "    1 \\end\n",
    "{bmatrix}$\n",
    "\n",
    "What is 3 * x?"
   ]
  },
  {
   "cell_type": "code",
   "execution_count": 2,
   "metadata": {},
   "outputs": [
    {
     "name": "stdout",
     "output_type": "stream",
     "text": [
      "A =\n",
      "\n",
      "   2\n",
      "   7\n",
      "   4\n",
      "   1\n",
      "\n",
      "scalar =  3\n",
      "R =\n",
      "\n",
      "    6\n",
      "   21\n",
      "   12\n",
      "    3\n",
      "\n"
     ]
    }
   ],
   "source": [
    "A = [\n",
    "    2;\n",
    "    7;\n",
    "    4;\n",
    "    1\n",
    "]\n",
    "\n",
    "scalar = 3\n",
    "\n",
    "R = scalar * A"
   ]
  },
  {
   "cell_type": "markdown",
   "metadata": {},
   "source": [
    "# 3\n",
    "\n",
    "Let u be a 3-dimensional vector, where specifically\n",
    "\n",
    "u = \n",
    "$\\begin{bmatrix}\n",
    "    8 \\\\\n",
    "    1 \\\\\n",
    "    4 \\end\n",
    "{bmatrix}$\n",
    "\n",
    "What is $u^T$?"
   ]
  },
  {
   "cell_type": "code",
   "execution_count": 3,
   "metadata": {},
   "outputs": [
    {
     "name": "stdout",
     "output_type": "stream",
     "text": [
      "A =\n",
      "\n",
      "   8\n",
      "   1\n",
      "   4\n",
      "\n",
      "R =\n",
      "\n",
      "   8   1   4\n",
      "\n"
     ]
    }
   ],
   "source": [
    "A = [\n",
    "    8;\n",
    "    1;\n",
    "    4\n",
    "]\n",
    "\n",
    "R = A'"
   ]
  },
  {
   "cell_type": "markdown",
   "metadata": {},
   "source": [
    "# 4\n",
    "\n",
    "Let u and v be 3-dimensional vectors, where specifically\n",
    "\n",
    "u = \n",
    "$\\begin{bmatrix}\n",
    "    1 \\\\\n",
    "    3 \\\\\n",
    "    -1 \\end\n",
    "{bmatrix}$\n",
    "\n",
    "and \n",
    "\n",
    "v = \n",
    "$\\begin{bmatrix}\n",
    "    2 \\\\\n",
    "    2 \\\\\n",
    "    4 \\end\n",
    "{bmatrix}$\n",
    "\n",
    "What is $u^Tv$?\n",
    "(Hint: $u^T$ is a 1x3 dimensional matrix, and v can also be seen as a 3x1 matrix. The answer you want can be obtained by taking the matrix product of $ u^T $ and $v$.) Do not add brackets to your answer."
   ]
  },
  {
   "cell_type": "code",
   "execution_count": 4,
   "metadata": {},
   "outputs": [
    {
     "name": "stdout",
     "output_type": "stream",
     "text": [
      "U =\n",
      "\n",
      "   1\n",
      "   3\n",
      "  -1\n",
      "\n",
      "V =\n",
      "\n",
      "   2\n",
      "   2\n",
      "   4\n",
      "\n",
      "R =  4\n"
     ]
    }
   ],
   "source": [
    "U = [\n",
    "    1;\n",
    "    3;\n",
    "    -1\n",
    "]\n",
    "\n",
    "V = [\n",
    "    2;\n",
    "    2;\n",
    "    4\n",
    "]\n",
    "\n",
    "R = U' * V"
   ]
  },
  {
   "cell_type": "markdown",
   "metadata": {},
   "source": [
    "## 5\n",
    "\n",
    "Let A and B be 3x3 (square) matrices. Which of the following\n",
    "\n",
    "must necessarily hold true? Check all that apply."
   ]
  },
  {
   "cell_type": "markdown",
   "metadata": {},
   "source": [
    "**(False)** if C = A * B, then C is a 6x6 matrix.\n",
    "\n",
    "**(False)** A * B = B * A\n",
    "\n",
    "**(True)** Is A is the 3x3 identity matrix, then A * B = B * A.\n",
    "\n",
    "(Even though matrix multiplication is not commutative in general (A * B $\\neq$ B * A for general matrices A, B), for the special case where A = I, we have A * B = I * B = B, and also B * A = B * I = B. So, A * B = B * A.)\n",
    "\n",
    "**(True)** A + B = B + A"
   ]
  }
 ],
 "metadata": {
  "kernelspec": {
   "display_name": "Octave",
   "language": "octave",
   "name": "octave"
  },
  "language_info": {
   "file_extension": ".m",
   "help_links": [
    {
     "text": "GNU Octave",
     "url": "https://www.gnu.org/software/octave/support.html"
    },
    {
     "text": "Octave Kernel",
     "url": "https://github.com/Calysto/octave_kernel"
    },
    {
     "text": "MetaKernel Magics",
     "url": "https://metakernel.readthedocs.io/en/latest/source/README.html"
    }
   ],
   "mimetype": "text/x-octave",
   "name": "octave",
   "version": "3.6.4"
  }
 },
 "nbformat": 4,
 "nbformat_minor": 2
}
